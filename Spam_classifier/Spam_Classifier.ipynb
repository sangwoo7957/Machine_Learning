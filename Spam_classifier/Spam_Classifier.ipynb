{
 "cells": [
  {
   "cell_type": "code",
   "execution_count": 1,
   "metadata": {},
   "outputs": [],
   "source": [
    "import os\n",
    "import tarfile\n",
    "import urllib\n",
    "\n",
    "DOWNLOAD_ROOT = \"http://spamassassin.apache.org/old/publiccorpus/\"\n",
    "HAM_URL = DOWNLOAD_ROOT + \"20030228_easy_ham.tar.bz2\"\n",
    "SPAM_URL = DOWNLOAD_ROOT + \"20030228_spam.tar.bz2\"\n",
    "SPAM_PATH = os.path.join(\"datasets\", \"spam\")\n",
    "\n",
    "def fetch_spam_data(spam_url=SPAM_URL, spam_path=SPAM_PATH):\n",
    "    if not os.path.isdir(spam_path):\n",
    "        os.makedirs(spam_path)\n",
    "    for filename, url in ((\"ham.tar.bz2\", HAM_URL), (\"spam.tar.bz2\", SPAM_URL)):\n",
    "        path = os.path.join(spam_path, filename)\n",
    "        if not os.path.isfile(path):\n",
    "            urllib.request.urlretrieve(url, path)\n",
    "        tar_bz2_file = tarfile.open(path)\n",
    "        tar_bz2_file.extractall(path=SPAM_PATH)\n",
    "        tar_bz2_file.close()"
   ]
  },
  {
   "cell_type": "code",
   "execution_count": 2,
   "metadata": {},
   "outputs": [],
   "source": [
    "fetch_spam_data()"
   ]
  },
  {
   "cell_type": "code",
   "execution_count": 3,
   "metadata": {},
   "outputs": [],
   "source": [
    "HAM_DIR = os.path.join(SPAM_PATH, \"easy_ham\")\n",
    "SPAM_DIR = os.path.join(SPAM_PATH, \"spam\")\n",
    "ham_filenames = [name for name in sorted(os.listdir(HAM_DIR)) if len(name) > 20]\n",
    "spam_filenames = [name for name in sorted(os.listdir(SPAM_DIR)) if len(name) > 20]"
   ]
  },
  {
   "cell_type": "code",
   "execution_count": 4,
   "metadata": {},
   "outputs": [
    {
     "data": {
      "text/plain": [
       "2500"
      ]
     },
     "execution_count": 4,
     "metadata": {},
     "output_type": "execute_result"
    }
   ],
   "source": [
    "len(ham_filenames)"
   ]
  },
  {
   "cell_type": "code",
   "execution_count": 5,
   "metadata": {},
   "outputs": [
    {
     "data": {
      "text/plain": [
       "500"
      ]
     },
     "execution_count": 5,
     "metadata": {},
     "output_type": "execute_result"
    }
   ],
   "source": [
    "len(spam_filenames)"
   ]
  },
  {
   "cell_type": "code",
   "execution_count": 8,
   "metadata": {},
   "outputs": [],
   "source": [
    "import email\n",
    "import email.policy\n",
    "\n",
    "def load_email(is_spam, filename, spam_path=SPAM_PATH):\n",
    "    directory = \"spam\" if is_spam else \"easy_ham\"\n",
    "    with open(os.path.join(spam_path, directory, filename), \"rb\") as f:\n",
    "        return email.parser.BytesParser(policy=email.policy.default).parse(f)"
   ]
  },
  {
   "cell_type": "code",
   "execution_count": 10,
   "metadata": {},
   "outputs": [],
   "source": [
    "ham_emails = [load_email(is_spam=False, filename=name) for name in ham_filenames]\n",
    "spam_emails = [load_email(is_spam=True, filename=name) for name in spam_filenames]"
   ]
  },
  {
   "cell_type": "code",
   "execution_count": 11,
   "metadata": {},
   "outputs": [
    {
     "name": "stdout",
     "output_type": "stream",
     "text": [
      "Martin A posted:\n",
      "Tassos Papadopoulos, the Greek sculptor behind the plan, judged that the\n",
      " limestone of Mount Kerdylio, 70 miles east of Salonika and not far from the\n",
      " Mount Athos monastic community, was ideal for the patriotic sculpture. \n",
      " \n",
      " As well as Alexander's granite features, 240 ft high and 170 ft wide, a\n",
      " museum, a restored amphitheatre and car park for admiring crowds are\n",
      "planned\n",
      "---------------------\n",
      "So is this mountain limestone or granite?\n",
      "If it's limestone, it'll weather pretty fast.\n",
      "\n",
      "------------------------ Yahoo! Groups Sponsor ---------------------~-->\n",
      "4 DVDs Free +s&p Join Now\n",
      "http://us.click.yahoo.com/pt6YBB/NXiEAA/mG3HAA/7gSolB/TM\n",
      "---------------------------------------------------------------------~->\n",
      "\n",
      "To unsubscribe from this group, send an email to:\n",
      "forteana-unsubscribe@egroups.com\n",
      "\n",
      " \n",
      "\n",
      "Your use of Yahoo! Groups is subject to http://docs.yahoo.com/info/terms/\n"
     ]
    }
   ],
   "source": [
    "print(ham_emails[1].get_content().strip())"
   ]
  },
  {
   "cell_type": "code",
   "execution_count": 12,
   "metadata": {},
   "outputs": [
    {
     "name": "stdout",
     "output_type": "stream",
     "text": [
      "Help wanted.  We are a 14 year old fortune 500 company, that is\n",
      "growing at a tremendous rate.  We are looking for individuals who\n",
      "want to work from home.\n",
      "\n",
      "This is an opportunity to make an excellent income.  No experience\n",
      "is required.  We will train you.\n",
      "\n",
      "So if you are looking to be employed from home with a career that has\n",
      "vast opportunities, then go:\n",
      "\n",
      "http://www.basetel.com/wealthnow\n",
      "\n",
      "We are looking for energetic and self motivated people.  If that is you\n",
      "than click on the link and fill out the form, and one of our\n",
      "employement specialist will contact you.\n",
      "\n",
      "To be removed from our link simple go to:\n",
      "\n",
      "http://www.basetel.com/remove.html\n",
      "\n",
      "\n",
      "4139vOLW7-758DoDY1425FRhM1-764SMFc8513fCsLl40\n"
     ]
    }
   ],
   "source": [
    "print(spam_emails[6].get_content().strip())"
   ]
  },
  {
   "cell_type": "code",
   "execution_count": 18,
   "metadata": {},
   "outputs": [],
   "source": [
    "def get_email_structure(email):\n",
    "    if isinstance(email, str):\n",
    "        return email\n",
    "    payload = email.get_payload()\n",
    "    if isinstance(payload, list):\n",
    "        return \"multipart({})\".format(\", \".join([\n",
    "            get_email_structure(sub_email)\n",
    "            for sub_email in payload\n",
    "        ]))\n",
    "    else:\n",
    "        return email.get_content_type()"
   ]
  },
  {
   "cell_type": "code",
   "execution_count": 19,
   "metadata": {},
   "outputs": [],
   "source": [
    "from collections import Counter\n",
    "\n",
    "def structures_counter(emails):\n",
    "    structures = Counter()\n",
    "    for email in emails:\n",
    "        structure = get_email_structure(email)\n",
    "        structures[structure] += 1\n",
    "    return structures"
   ]
  },
  {
   "cell_type": "code",
   "execution_count": 20,
   "metadata": {},
   "outputs": [
    {
     "data": {
      "text/plain": [
       "[('text/plain', 2408),\n",
       " ('multipart(text/plain, application/pgp-signature)', 66),\n",
       " ('multipart(text/plain, text/html)', 8),\n",
       " ('multipart(text/plain, text/plain)', 4),\n",
       " ('multipart(text/plain)', 3),\n",
       " ('multipart(text/plain, application/octet-stream)', 2),\n",
       " ('multipart(text/plain, text/enriched)', 1),\n",
       " ('multipart(text/plain, application/ms-tnef, text/plain)', 1),\n",
       " ('multipart(multipart(text/plain, text/plain, text/plain), application/pgp-signature)',\n",
       "  1),\n",
       " ('multipart(text/plain, video/mng)', 1),\n",
       " ('multipart(text/plain, multipart(text/plain))', 1),\n",
       " ('multipart(text/plain, application/x-pkcs7-signature)', 1),\n",
       " ('multipart(text/plain, multipart(text/plain, text/plain), text/rfc822-headers)',\n",
       "  1),\n",
       " ('multipart(text/plain, multipart(text/plain, text/plain), multipart(multipart(text/plain, application/x-pkcs7-signature)))',\n",
       "  1),\n",
       " ('multipart(text/plain, application/x-java-applet)', 1)]"
      ]
     },
     "execution_count": 20,
     "metadata": {},
     "output_type": "execute_result"
    }
   ],
   "source": [
    "structures_counter(ham_emails).most_common()"
   ]
  },
  {
   "cell_type": "code",
   "execution_count": 21,
   "metadata": {},
   "outputs": [
    {
     "data": {
      "text/plain": [
       "[('text/plain', 218),\n",
       " ('text/html', 183),\n",
       " ('multipart(text/plain, text/html)', 45),\n",
       " ('multipart(text/html)', 20),\n",
       " ('multipart(text/plain)', 19),\n",
       " ('multipart(multipart(text/html))', 5),\n",
       " ('multipart(text/plain, image/jpeg)', 3),\n",
       " ('multipart(text/html, application/octet-stream)', 2),\n",
       " ('multipart(text/plain, application/octet-stream)', 1),\n",
       " ('multipart(text/html, text/plain)', 1),\n",
       " ('multipart(multipart(text/html), application/octet-stream, image/jpeg)', 1),\n",
       " ('multipart(multipart(text/plain, text/html), image/gif)', 1),\n",
       " ('multipart/alternative', 1)]"
      ]
     },
     "execution_count": 21,
     "metadata": {},
     "output_type": "execute_result"
    }
   ],
   "source": [
    "structures_counter(spam_emails).most_common()"
   ]
  },
  {
   "cell_type": "code",
   "execution_count": 22,
   "metadata": {},
   "outputs": [
    {
     "name": "stdout",
     "output_type": "stream",
     "text": [
      "Return-Path : <12a1mailbot1@web.de>\n",
      "Delivered-To : zzzz@localhost.spamassassin.taint.org\n",
      "Received : from localhost (localhost [127.0.0.1])\tby phobos.labs.spamassassin.taint.org (Postfix) with ESMTP id 136B943C32\tfor <zzzz@localhost>; Thu, 22 Aug 2002 08:17:21 -0400 (EDT)\n",
      "Received : from mail.webnote.net [193.120.211.219]\tby localhost with POP3 (fetchmail-5.9.0)\tfor zzzz@localhost (single-drop); Thu, 22 Aug 2002 13:17:21 +0100 (IST)\n",
      "Received : from dd_it7 ([210.97.77.167])\tby webnote.net (8.9.3/8.9.3) with ESMTP id NAA04623\tfor <zzzz@spamassassin.taint.org>; Thu, 22 Aug 2002 13:09:41 +0100\n",
      "From : 12a1mailbot1@web.de\n",
      "Received : from r-smtp.korea.com - 203.122.2.197 by dd_it7  with Microsoft SMTPSVC(5.5.1775.675.6);\t Sat, 24 Aug 2002 09:42:10 +0900\n",
      "To : dcek1a1@netsgo.com\n",
      "Subject : Life Insurance - Why Pay More?\n",
      "Date : Wed, 21 Aug 2002 20:31:57 -1600\n",
      "MIME-Version : 1.0\n",
      "Message-ID : <0103c1042001882DD_IT7@dd_it7>\n",
      "Content-Type : text/html; charset=\"iso-8859-1\"\n",
      "Content-Transfer-Encoding : quoted-printable\n"
     ]
    }
   ],
   "source": [
    "for header, value in spam_emails[0].items():\n",
    "    print(header,  \":\", value)"
   ]
  },
  {
   "cell_type": "code",
   "execution_count": 23,
   "metadata": {},
   "outputs": [
    {
     "data": {
      "text/plain": [
       "'Life Insurance - Why Pay More?'"
      ]
     },
     "execution_count": 23,
     "metadata": {},
     "output_type": "execute_result"
    }
   ],
   "source": [
    "spam_emails[0][\"Subject\"]"
   ]
  },
  {
   "cell_type": "code",
   "execution_count": 24,
   "metadata": {},
   "outputs": [],
   "source": [
    "import numpy as np\n",
    "from sklearn.model_selection import train_test_split\n",
    "\n",
    "X = np.array(ham_emails + spam_emails)\n",
    "y = np.array([0] * len(ham_emails) + [1] * len(spam_emails))\n",
    "\n",
    "X_train, X_test, y_train, y_test = train_test_split(X, y, random_state=42)"
   ]
  },
  {
   "cell_type": "markdown",
   "metadata": {},
   "source": [
    "<h2> 1. A function to convert HTML to plain text </h2>\n",
    "    <h3> - Regular expression </h3>"
   ]
  },
  {
   "cell_type": "code",
   "execution_count": 34,
   "metadata": {},
   "outputs": [],
   "source": [
    "import re\n",
    "from html import unescape\n",
    "\n",
    "def html_to_plain_text(html):\n",
    "    text = re.sub('<head.*?>,*?</head>', '', html, flags=re.M | re.S | re.I)\n",
    "    text = re.sub('<a\\s.*?>', ' HYPERLINK ', text, flags=re.M | re.S | re.I)\n",
    "    text = re.sub('<.*?>', '', text, flags=re.M | re.S)\n",
    "    text = re.sub(r'(\\s*\\n)+', '\\n', text, flags=re.M | re.S)\n",
    "    return unescape(text)"
   ]
  },
  {
   "cell_type": "code",
   "execution_count": 35,
   "metadata": {},
   "outputs": [
    {
     "name": "stdout",
     "output_type": "stream",
     "text": [
      "<HTML>\n",
      "<HEAD>\n",
      "</HEAD>\n",
      "<BODY>\n",
      "<FONT SIZE=\"4\"><B> A man endowed with a 7 - 8\" hammer is simply<br>\n",
      " better equipped than a man with a 5 - 6\" hammer. <BR>\n",
      "<BR>Would you rather have<br>more than enough to get the job done or fall very short. It's totally up<br>to you. Our Methods are guaranteed to increase your size by 1 - 3\"<br> <A HREF=\"http://202.109.114.136/index.php?10004\">Enter here and see how</A>\n",
      "</BODY>\n",
      "</HTML> ...\n"
     ]
    }
   ],
   "source": [
    "html_spam_emails = [email for email in X_train[y_train==1]\n",
    "                    if get_email_structure(email) == \"text/html\"]\n",
    "sample_html_spam = html_spam_emails[7]\n",
    "print(sample_html_spam.get_content().strip()[:1000], \"...\")"
   ]
  },
  {
   "cell_type": "code",
   "execution_count": 36,
   "metadata": {},
   "outputs": [
    {
     "name": "stdout",
     "output_type": "stream",
     "text": [
      "\n",
      " A man endowed with a 7 - 8\" hammer is simply\n",
      " better equipped than a man with a 5 - 6\" hammer.\n",
      "Would you rather havemore than enough to get the job done or fall very short. It's totally upto you. Our Methods are guaranteed to increase your size by 1 - 3\"  HYPERLINK Enter here and see how\n",
      " ...\n"
     ]
    }
   ],
   "source": [
    "print(html_to_plain_text(sample_html_spam.get_content())[:1000], \"...\")"
   ]
  },
  {
   "cell_type": "code",
   "execution_count": 37,
   "metadata": {},
   "outputs": [],
   "source": [
    "def email_to_text(email):\n",
    "    html = None\n",
    "    for part in email.walk():\n",
    "        ctype = part.get_content_type()\n",
    "        if not ctype in (\"text/plain\", \"text/html\"):\n",
    "            continue\n",
    "        try:\n",
    "            content = part.get_content()\n",
    "        except:\n",
    "            content = str(part.get_payload())\n",
    "        if ctype == \"text/plain\":\n",
    "            return content\n",
    "        else:\n",
    "            html = content\n",
    "    if html:\n",
    "        return html_to_plain_text(html)"
   ]
  },
  {
   "cell_type": "code",
   "execution_count": 38,
   "metadata": {},
   "outputs": [
    {
     "name": "stdout",
     "output_type": "stream",
     "text": [
      "\n",
      " A man endowed with a 7 - 8\" hammer is simply\n",
      " better equipped than a man with a 5 - 6\" hammer.\n",
      "Wou ...\n"
     ]
    }
   ],
   "source": [
    "print(email_to_text(sample_html_spam)[:100], \"...\")"
   ]
  },
  {
   "cell_type": "code",
   "execution_count": 40,
   "metadata": {},
   "outputs": [
    {
     "name": "stdout",
     "output_type": "stream",
     "text": [
      "Requirement already satisfied: nltk in c:\\programdata\\anaconda3\\lib\\site-packages (3.5)\n",
      "Requirement already satisfied: regex in c:\\programdata\\anaconda3\\lib\\site-packages (from nltk) (2020.6.8)\n",
      "Requirement already satisfied: click in c:\\programdata\\anaconda3\\lib\\site-packages (from nltk) (7.1.2)\n",
      "Requirement already satisfied: joblib in c:\\programdata\\anaconda3\\lib\\site-packages (from nltk) (0.16.0)\n",
      "Requirement already satisfied: tqdm in c:\\programdata\\anaconda3\\lib\\site-packages (from nltk) (4.47.0)\n"
     ]
    }
   ],
   "source": [
    "!pip3 install nltk"
   ]
  },
  {
   "cell_type": "code",
   "execution_count": 41,
   "metadata": {},
   "outputs": [
    {
     "name": "stdout",
     "output_type": "stream",
     "text": [
      "Computations => comput\n",
      "Computation => comput\n",
      "Computing => comput\n",
      "Computed => comput\n",
      "Compute => comput\n",
      "Compulsive => compuls\n"
     ]
    }
   ],
   "source": [
    "try:\n",
    "    import nltk\n",
    "    \n",
    "    stemmer = nltk.PorterStemmer()\n",
    "    for word in (\"Computations\", \"Computation\", \"Computing\", \"Computed\", \"Compute\", \"Compulsive\"):\n",
    "        print(word, \"=>\", stemmer.stem(word))\n",
    "except ImportError:\n",
    "    print(\"Error: stemming requires the NLTK module.\")\n",
    "    stemmer = None"
   ]
  },
  {
   "cell_type": "markdown",
   "metadata": {},
   "source": [
    "<h2> 2. A way to replace URLs with the word \"URL\" </h2>"
   ]
  },
  {
   "cell_type": "code",
   "execution_count": 42,
   "metadata": {},
   "outputs": [
    {
     "name": "stdout",
     "output_type": "stream",
     "text": [
      "Collecting urlextract\n",
      "  Downloading urlextract-1.0.0-py3-none-any.whl (19 kB)\n",
      "Requirement already satisfied: filelock in c:\\programdata\\anaconda3\\lib\\site-packages (from urlextract) (3.0.12)\n",
      "Requirement already satisfied: idna in c:\\programdata\\anaconda3\\lib\\site-packages (from urlextract) (2.10)\n",
      "Collecting appdirs\n",
      "  Downloading appdirs-1.4.4-py2.py3-none-any.whl (9.6 kB)\n",
      "Collecting uritools\n",
      "  Downloading uritools-3.0.0-py3-none-any.whl (12 kB)\n",
      "Installing collected packages: appdirs, uritools, urlextract\n",
      "Successfully installed appdirs-1.4.4 uritools-3.0.0 urlextract-1.0.0\n"
     ]
    }
   ],
   "source": [
    "!pip install urlextract"
   ]
  },
  {
   "cell_type": "code",
   "execution_count": 43,
   "metadata": {},
   "outputs": [
    {
     "name": "stdout",
     "output_type": "stream",
     "text": [
      "['github.com', 'https://youtu.be/7Pq-S557XQU?t=3m32s']\n"
     ]
    }
   ],
   "source": [
    "try:\n",
    "    import urlextract\n",
    "    \n",
    "    url_extractor = urlextract.URLExtract()\n",
    "    print(url_extractor.find_urls(\"Will it detect github.com and https://youtu.be/7Pq-S557XQU?t=3m32s\"))\n",
    "except ImportError:\n",
    "    print(\"Error : replacing URLs requires the urlextract module\")\n",
    "    url_extractor = None"
   ]
  },
  {
   "cell_type": "markdown",
   "metadata": {},
   "source": [
    "<h2> 3. Putting above together into a transformer that we will use to convert\n",
    "    emails to word counter </h2>"
   ]
  },
  {
   "cell_type": "code",
   "execution_count": 44,
   "metadata": {},
   "outputs": [],
   "source": [
    "from sklearn.base import BaseEstimator, TransformerMixin\n",
    "\n",
    "class EmailToWordCounterTransformer(BaseEstimator, TransformerMixin):\n",
    "    def __init__(self, strip_headers=True, lower_case=True, remove_punctuation=True,\n",
    "                replace_urls=True, replace_numbers=True, stemming=True):\n",
    "        self.strip_headers = strip_headers\n",
    "        self.lower_case = lower_case\n",
    "        self.remove_punctuation = remove_punctuation\n",
    "        self.replace_urls = replace_urls\n",
    "        self.replace_numbers = replace_numbers\n",
    "        self.stemming = stemming\n",
    "    def fit(self, X, y=None):\n",
    "        return self\n",
    "    def transform(self, X, y=None):\n",
    "        X_transformed = []\n",
    "        for email in X:\n",
    "            text = email_to_text(email) or \"\"\n",
    "            if self.lower_case:\n",
    "                text = text.lower()\n",
    "            if self.replace_urls and url_extractor is not None:\n",
    "                urls = list(set(url_extractor.find_urls(text)))\n",
    "                urls.sort(key=lambda url: len(url), reverse=True)\n",
    "                for url in urls:\n",
    "                    text = text.replace(url, \" URL \")\n",
    "            if self.replace_numbers:\n",
    "                text = re.sub(r'\\d+(?:\\.\\d*(?:[eE]\\d+))?', 'NUMBER', text)\n",
    "            if self.remove_punctuation:\n",
    "                text = re.sub(r'\\W+', ' ', text, flags=re.M)\n",
    "            word_counts = Counter(text.split())\n",
    "            if self.stemming and stemmer is not None:\n",
    "                stemmed_word_counts = Counter()\n",
    "                for word, count in word_counts.items():\n",
    "                    stemmed_word = stemmer.stem(word)\n",
    "                    stemmed_word_counts[stemmed_word] += count\n",
    "                word_counts = stemmed_word_counts\n",
    "            X_transformed.append(word_counts)\n",
    "        return np.array(X_transformed)"
   ]
  },
  {
   "cell_type": "code",
   "execution_count": 45,
   "metadata": {},
   "outputs": [
    {
     "data": {
      "text/plain": [
       "array([Counter({'number': 217, 'the': 117, 'to': 80, 'you': 73, 'of': 63, 'and': 60, 'i': 56, 'report': 51, 'it': 46, 'thi': 45, 'is': 44, 'a': 41, 'in': 41, 'mail': 36, 'on': 34, 'your': 33, 'for': 33, 'order': 32, 'e': 28, 'will': 24, 'not': 23, 'that': 22, 'send': 20, 'name': 20, 'with': 19, 'peopl': 19, 'or': 18, 'make': 16, 'out': 16, 'receiv': 16, 'have': 15, 'each': 15, 'more': 14, 'address': 14, 'are': 13, 'one': 13, 'do': 13, 's': 13, 'program': 13, 'money': 13, 'my': 13, 'from': 12, 'be': 12, 'if': 12, 'total': 12, 'wa': 11, 'work': 11, 'follow': 11, 'onli': 11, 'so': 11, 'time': 10, 'month': 10, 'all': 10, 'made': 10, 'get': 10, 'internet': 9, 'what': 9, 'day': 9, 'just': 9, 'no': 9, 'those': 9, 'everi': 9, 'can': 9, 'instruct': 9, 'but': 9, 'week': 9, 'by': 9, 'respons': 9, 'within': 8, 'had': 8, 'as': 8, 'there': 8, 'again': 8, 'come': 7, 'they': 7, 'list': 7, 'cash': 7, 'busi': 6, 'befor': 6, 'read': 6, 'when': 6, 'who': 6, 'million': 6, 'start': 6, 'ani': 6, 'place': 6, 'them': 6, 'how': 6, 'rememb': 6, 'method': 6, 'advertis': 6, 'move': 6, 'free': 6, 'letter': 5, 'success': 5, 'now': 5, 'about': 5, 'market': 5, 'say': 5, 'these': 5, 'believ': 5, 'legal': 5, 'becaus': 5, 'comput': 5, 'other': 5, 'see': 5, 'also': 5, 'simpl': 5, 'ha': 5, 'than': 5, 'first': 5, 'next': 5, 'after': 5, 'chang': 5, 'way': 5, 'tri': 5, 'down': 5, 'net': 5, '______________________________________________________': 5, 'mani': 4, 'pleas': 4, 'few': 4, 'profit': 4, 'well': 4, 'littl': 4, 'respond': 4, 'me': 4, 'where': 4, 'would': 4, 'simpli': 4, 'been': 4, 'below': 4, 'their': 4, 'am': 4, 'later': 4, 'at': 4, 'least': 4, 'financi': 4, 'sure': 4, 'save': 4, 'continu': 4, 'until': 4, 'jodi': 4, 't': 4, 'know': 3, 'take': 3, 'potenti': 3, 'easi': 3, 'use': 3, 'whether': 3, 'keep': 3, 'think': 3, 'never': 3, 'someth': 3, 'go': 3, 'matter': 3, 'thank': 3, 'check': 3, 'over': 3, 'half': 3, 'an': 3, 'onc': 3, 'cost': 3, 'better': 3, 'opportun': 3, 'could': 3, 'return': 3, 'new': 3, 'anoth': 3, 'decid': 3, 'then': 3, 'guarante': 3, 'person': 3, 'case': 3, 'happen': 3, 'friend': 3, 'veri': 3, 'count': 3, 'copi': 3, 'inform': 3, 'bulk': 3, 'thousand': 3, 'ad': 3, 'let': 3, 'assum': 3, 'incom': 3, 'paper': 3, 'thing': 3, 'she': 3, 'her': 3, 'may': 2, 'seen': 2, 'ignor': 2, 'did': 2, 'moment': 2, 'final': 2, 'end': 2, 'current': 2, 'though': 2, 'said': 2, 'wife': 2, 'feel': 2, 'cannot': 2, 'imagin': 2, 'true': 2, 'nation': 2, 'dollar': 2, 'millionair': 2, 'like': 2, 'news': 2, 'due': 2, 'popular': 2, 'recent': 2, 'entir': 2, 'show': 2, 'investig': 2, 'realli': 2, 'find': 2, 'particip': 2, 'some': 2, 'ever': 2, 'pass': 2, 'join': 2, 'effort': 2, 'still': 2, 'gambl': 2, 'step': 2, 'anyth': 2, 'testimoni': 2, 'easili': 2, 'envelop': 2, 'differ': 2, 'import': 2, 'alter': 2, 'through': 2, 'lose': 2, 'major': 2, 'put': 2, 'rel': 2, 'doe': 2, 'provid': 2, 'which': 2, 'much': 2, 'we': 2, 'involv': 2, 'hundr': 2, 'exampl': 2, 'sent': 2, 'lot': 2, 'alway': 2, 'conceal': 2, 'note': 2, 'u': 2, 'sheet': 2, 'insid': 2, 'guid': 2, 'j': 2, 'm': 2, 'email': 2, 'germani': 2, 'becom': 2, 'guidelin': 2, 'should': 2, 'gener': 2, 'whole': 2, 'freedom': 2, 'life': 2, 'given': 2, 'idea': 2, 'up': 2, 'mitchel': 2, 'live': 2, 'chicago': 2, 'fun': 2, 'wouldn': 2, 'd': 2, 'invest': 2, 'offic': 2, 'delet': 2, 'contact': 2, 'came': 2, 'washington': 2, 'c': 2, 'messag': 2, 'hello': 1, 'howev': 1, 'amaz': 1, 'sunk': 1, 'tool': 1, 'opt': 1, 'fast': 1, 'capabl': 1, 'ordinari': 1, 'earn': 1, 'truli': 1, 'stagger': 1, 'll': 1, 'promis': 1, 'worri': 1, 'recess': 1, 'presid': 1, 'job': 1, 'ye': 1, 'either': 1, 'throw': 1, 'away': 1, 'movi': 1, 'hour': 1, 'heck': 1, 'word': 1, 'buy': 1, 'sell': 1, 'valu': 1, 'tv': 1, 'home': 1, 'age': 1, 'year': 1, 'bull': 1, 'hear': 1, 'late': 1, 'weekli': 1, 'devot': 1, 'describ': 1, 'prove': 1, 'absolut': 1, 'law': 1, 'prohibit': 1, 'bound': 1, 'mega': 1, 'buck': 1, 'pocket': 1, 'increas': 1, 'respect': 1, 'attain': 1, 'approach': 1, 'glad': 1, 'expect': 1, 'minim': 1, 'requir': 1, 'astonish': 1, 'pam': 1, 'hedland': 1, 'fort': 1, 'lee': 1, 'jersey': 1, 'around': 1, 'long': 1, 'walaa': 1, 'far': 1, 'past': 1, 're': 1, 'enter': 1, 'play': 1, 'key': 1, 'print': 1, 'futur': 1, 'refer': 1, 'comfort': 1, 'dream': 1, 'shown': 1, 'whose': 1, 'appear': 1, 'top': 1, 'left': 1, 'corner': 1, 'problem': 1, 'need': 1, 'resel': 1, 'x': 1, 'via': 1, 'individu': 1, 'access': 1, 'floppi': 1, 'desk': 1, 'sequenc': 1, 'understand': 1, 'test': 1, 'five': 1, 'us': 1, 'greedi': 1, 'noth': 1, 'honesti': 1, 'reap': 1, 'reward': 1, 'legitim': 1, 'offer': 1, 'product': 1, 'sale': 1, 'paid': 1, 'treat': 1, 'such': 1, 'short': 1, 'period': 1, 'remov': 1, 'cycl': 1, 'doubt': 1, 'fortun': 1, 'insert': 1, 'posit': 1, 'accur': 1, 'critic': 1, 'modifi': 1, 'disk': 1, 'data': 1, 'assist': 1, 'purchas': 1, 'invalu': 1, 'includ': 1, 'classifi': 1, 'primari': 1, 'ventur': 1, 'small': 1, 'goe': 1, 'instead': 1, 'grand': 1, 'lie': 1, 'pencil': 1, 'figur': 1, 'worst': 1, 'possibl': 1, 'calcul': 1, 'dare': 1, 'everyon': 1, 'even': 1, 'numberth': 1, 'worldwid': 1, 'onlin': 1, 'inexpens': 1, 'larger': 1, 'strongli': 1, 'suggest': 1, 'add': 1, 'along': 1, 'must': 1, 'same': 1, 'servic': 1, 'prompt': 1, 'avail': 1, 'reason': 1, 'illeg': 1, 'somehow': 1, 'wrong': 1, 'credit': 1, 'card': 1, 'clear': 1, 'approv': 1, 'etc': 1, 'steal': 1, 'currenc': 1, 'accept': 1, 'wrap': 1, 'write': 1, 'postal': 1, 'robert': 1, 'borowczyk': 1, 'ul': 1, 'olbrachta': 1, 'numberc': 1, 'warsaw': 1, 'poland': 1, 'mohammad': 1, 'faraziyan': 1, 'engelbertstr': 1, 'düsseldorf': 1, 'secret': 1, 'multilevel': 1, 'lui': 1, 'pastor': 1, 'apartado': 1, 'bilbao': 1, 'spain': 1, 'mlm': 1, 'ali': 1, 'reza': 1, 'auf': 1, 'den': 1, 'holln': 1, 'bochum': 1, 'siden': 1, 'krondikesvägen': 1, 'östersund': 1, 'sweden': 1, 'relax': 1, 'system': 1, 'alreadi': 1, 'roll': 1, 'front': 1, 'track': 1, 'progress': 1, 'watch': 1, 'want': 1, 'batch': 1, 'process': 1, 'limit': 1, 'origin': 1, 'give': 1, 'rest': 1, 'risk': 1, 'bit': 1, 'exactli': 1, 'exceedingli': 1, 'excit': 1, 'abov': 1, 'custom': 1, 'reach': 1, 'materi': 1, 'independ': 1, 'account': 1, 'corpor': 1, 'pretti': 1, 'good': 1, 'grumbl': 1, 'junk': 1, 'spout': 1, 'knowledg': 1, 'popul': 1, 'percentag': 1, 'knew': 1, 'suppos': 1, 'intellig': 1, 'jump': 1, 'both': 1, 'feet': 1, 'merciless': 1, 'readi': 1, 'lay': 1, 'old': 1, 'told': 1, 'didn': 1, 'laugh': 1, 'shock': 1, 'hobbi': 1, 'wolf': 1, 'illinoi': 1, 'type': 1, 'took': 1, 'sever': 1, 'mind': 1, 'plan': 1, 'conserv': 1, 'initi': 1, 'enough': 1, 'back': 1, 'surpris': 1, 'found': 1, 'medium': 1, 'size': 1, 'post': 1, 'box': 1, 'cram': 1, 'nice': 1, 'deal': 1, 'isn': 1, 'faster': 1, 'big': 1, 'dan': 1, 'sondstrom': 1, 'alberta': 1, 'canada': 1, 'wonder': 1, 'cours': 1, 'wait': 1, 'someon': 1, 'els': 1, 'luckili': 1, 'susan': 1, 'de': 1, 'suza': 1, 'york': 1, 'n': 1, 'y': 1, 'great': 1, 'care': 1, 'numbernd': 1, 'third': 1, 'beauti': 1, 'thanx': 1, 'fred': 1, 'dellaca': 1, 'westport': 1, 'zealand': 1, 'today': 1, 'road': 1, 'question': 1, 'associ': 1, 'director': 1, 'practic': 1, 'feder': 1, 'trade': 1, 'commiss': 1, 'bureau': 1, 'consum': 1, 'protect': 1, 'complianc': 1, 'propos': 1, 'bill': 1, 'section': 1, 'paragraph': 1, 'intend': 1, 'resid': 1, 'state': 1, 'virginia': 1, 'california': 1, 'screen': 1, 'done': 1, 'best': 1, 'our': 1, 'technic': 1, 'abil': 1}),\n",
       "       Counter({'the': 12, 'of': 7, 'gecko': 5, 'at': 4, 'and': 4, 'univers': 3, 's': 3, 'on': 3, 'adhes': 3, 'tip': 3, 'to': 3, 'lewi': 2, 'clark': 2, 'colleg': 2, 'california': 2, 'that': 2, 'depend': 2, 'forc': 2, 'chemistri': 2, 'not': 2, 'in': 2, 'foot': 2, 'hair': 2, 'it': 2, 'prototyp': 2, 'biolog': 2, 'via': 1, 'robot': 1, 'wisdom': 1, 'mayb': 1, 'you': 1, 'uc': 1, 'folk': 1, 'know': 1, 'these': 1, 'peopl': 1, 'url': 1, 'work': 1, 'berkeley': 1, 'santa': 1, 'barbara': 1, 'stanford': 1, 'interdisciplinari': 1, 'team': 1, 'confirm': 1, 'specul': 1, 'amaz': 1, 'climb': 1, 'abil': 1, 'weak': 1, 'molecular': 1, 'attract': 1, 'call': 1, 'van': 1, 'der': 1, 'waal': 1, 'reject': 1, 'a': 1, 'compet': 1, 'model': 1, 'base': 1, 'water': 1, 'molecul': 1, 'discov': 1, 'geometri': 1, 'surfac': 1, 'other': 1, 'word': 1, 'size': 1, 'shape': 1, 'what': 1, 'they': 1, 'are': 1, 'made': 1, 'determin': 1, 'sticki': 1, 'verifi': 1, 'experiment': 1, 'theoret': 1, 'result': 1, 'group': 1, 'then': 1, 'use': 1, 'new': 1, 'data': 1, 'fabric': 1, 'synthet': 1, 'from': 1, 'two': 1, 'differ': 1, 'materi': 1, 'both': 1, 'artifici': 1, 'setal': 1, 'stuck': 1, 'as': 1, 'predict': 1, 'note': 1, 'autumn': 1, 'assist': 1, 'professor': 1, 'portland': 1, 'ore': 1, 'our': 1, 'initi': 1, 'open': 1, 'door': 1, 'manufactur': 1, 'first': 1, 'inspir': 1, 'dri': 1, 'microstructur': 1, 'which': 1, 'can': 1, 'have': 1, 'widespread': 1, 'applic': 1}),\n",
       "       Counter({'number': 5, 'a': 4, 'with': 4, 'is': 4, 'i': 3, 'dummi': 3, 'packag': 3, 'that': 3, 'rpm': 3, 'list': 3, 'have': 2, 'to': 2, 'thi': 2, 'switch': 2, 'there': 2, 'updat': 2, 'the': 2, 'get': 2, 'on': 1, 'wed': 1, 'feb': 1, 'at': 1, 'numberpm': 1, 'harri': 1, 'haataja': 1, 'wrote': 1, 'few': 1, 'such': 1, 'thing': 1, 'jdk': 1, 'imlib': 1, 'kernel': 1, 'dri': 1, 'version': 1, 'someth': 1, 'and': 1, 'ive': 1, 'just': 1, 'made': 1, 'verbos': 1, 'warn': 1, 'attach': 1, 'explicitli': 1, 'provid': 1, 'those': 1, 'capabl': 1, 'or': 1, 'claim': 1, 'hm': 1, 'one': 1, 'could': 1, 'do': 1, 's': 1, 'justdb': 1, 'too': 1, 'without': 1, 'make': 1, 'right': 1, 'wa': 1, 'wonder': 1, 'bit': 1, 'danger': 1, 'if': 1, 'for': 1, 'my': 1, 'softwar': 1, 'as': 1, 'might': 1, 'it': 1, 'overwrit': 1, 'instal': 1, 've': 1, 'done': 1, 'from': 1, 'sourc': 1, 'not': 1, 'good': 1, 'realli': 1, 'no': 1, 'nodep': 1, 'kind': 1, 'of': 1, 'in': 1, 'apt': 1, 'peter': 1, '_______________________________________________': 1, 'mail': 1, 'freshrpm': 1, 'net': 1, 'url': 1})],\n",
       "      dtype=object)"
      ]
     },
     "execution_count": 45,
     "metadata": {},
     "output_type": "execute_result"
    }
   ],
   "source": [
    "X_few = X_train[:3]\n",
    "X_few_wordcounts = EmailToWordCounterTransformer().fit_transform(X_few)\n",
    "X_few_wordcounts"
   ]
  },
  {
   "cell_type": "markdown",
   "metadata": {},
   "source": [
    "<h2> 4. To convert the word to vectors </h2>"
   ]
  },
  {
   "cell_type": "code",
   "execution_count": 48,
   "metadata": {},
   "outputs": [],
   "source": [
    "from scipy.sparse import csr_matrix\n",
    "\n",
    "class WordCounterToVectorTransformer(BaseEstimator, TransformerMixin):\n",
    "    def __init__(self, vocabulary_size=1000):\n",
    "        self.vocabulary_size = vocabulary_size\n",
    "    def fit(self, X, y=None):\n",
    "        total_count = Counter()\n",
    "        for word_count in X:\n",
    "            for word, count in word_count.items():\n",
    "                total_count[word] += min(count, 10)\n",
    "        most_common = total_count.most_common()[:self.vocabulary_size]\n",
    "        self.most_common_ = most_common\n",
    "        self.vocabulary_ = {word: index + 1 for index, (word, count) in enumerate(most_common)}\n",
    "        return self\n",
    "    def transform(self, X, y=None):\n",
    "        rows = []\n",
    "        cols = []\n",
    "        data = []\n",
    "        for row, word_count in enumerate(X):\n",
    "            for word, count in word_count.items():\n",
    "                rows.append(row)\n",
    "                cols.append(self.vocabulary_.get(word, 0))\n",
    "                data.append(count)\n",
    "        return csr_matrix((data, (rows, cols)), shape=(len(X), self.vocabulary_size + 1))"
   ]
  },
  {
   "cell_type": "code",
   "execution_count": 49,
   "metadata": {},
   "outputs": [
    {
     "data": {
      "text/plain": [
       "<3x11 sparse matrix of type '<class 'numpy.intc'>'\n",
       "\twith 30 stored elements in Compressed Sparse Row format>"
      ]
     },
     "execution_count": 49,
     "metadata": {},
     "output_type": "execute_result"
    }
   ],
   "source": [
    "vocab_transformer = WordCounterToVectorTransformer(vocabulary_size=10)\n",
    "X_few_vectors = vocab_transformer.fit_transform(X_few_wordcounts)\n",
    "X_few_vectors"
   ]
  },
  {
   "cell_type": "code",
   "execution_count": 50,
   "metadata": {},
   "outputs": [
    {
     "data": {
      "text/plain": [
       "array([[2110,  117,   63,   60,   41,   80,  217,   22,   19,   44,   34],\n",
       "       [ 139,   12,    7,    4,    1,    3,    0,    2,    0,    0,    3],\n",
       "       [  96,    2,    1,    1,    4,    2,    5,    3,    4,    4,    1]],\n",
       "      dtype=int32)"
      ]
     },
     "execution_count": 50,
     "metadata": {},
     "output_type": "execute_result"
    }
   ],
   "source": [
    "X_few_vectors.toarray()"
   ]
  },
  {
   "cell_type": "code",
   "execution_count": 51,
   "metadata": {},
   "outputs": [
    {
     "data": {
      "text/plain": [
       "{'the': 1,\n",
       " 'of': 2,\n",
       " 'and': 3,\n",
       " 'a': 4,\n",
       " 'to': 5,\n",
       " 'number': 6,\n",
       " 'that': 7,\n",
       " 'with': 8,\n",
       " 'is': 9,\n",
       " 'on': 10}"
      ]
     },
     "execution_count": 51,
     "metadata": {},
     "output_type": "execute_result"
    }
   ],
   "source": [
    "vocab_transformer.vocabulary_"
   ]
  },
  {
   "cell_type": "markdown",
   "metadata": {},
   "source": [
    "<h2> 5. Train spam classifier </h2>"
   ]
  },
  {
   "cell_type": "code",
   "execution_count": 52,
   "metadata": {},
   "outputs": [],
   "source": [
    "from sklearn.pipeline import Pipeline\n",
    "\n",
    "preprocess_pipeline = Pipeline([\n",
    "    (\"email_to_wordcount\", EmailToWordCounterTransformer()),\n",
    "    (\"wordcount_to_vector\", WordCounterToVectorTransformer()),\n",
    "])\n",
    "\n",
    "X_train_transformed = preprocess_pipeline.fit_transform(X_train)"
   ]
  },
  {
   "cell_type": "code",
   "execution_count": 53,
   "metadata": {},
   "outputs": [
    {
     "name": "stderr",
     "output_type": "stream",
     "text": [
      "[Parallel(n_jobs=1)]: Using backend SequentialBackend with 1 concurrent workers.\n",
      "C:\\ProgramData\\Anaconda3\\lib\\site-packages\\sklearn\\linear_model\\_logistic.py:762: ConvergenceWarning: lbfgs failed to converge (status=1):\n",
      "STOP: TOTAL NO. of ITERATIONS REACHED LIMIT.\n",
      "\n",
      "Increase the number of iterations (max_iter) or scale the data as shown in:\n",
      "    https://scikit-learn.org/stable/modules/preprocessing.html\n",
      "Please also refer to the documentation for alternative solver options:\n",
      "    https://scikit-learn.org/stable/modules/linear_model.html#logistic-regression\n",
      "  n_iter_i = _check_optimize_result(\n",
      "[Parallel(n_jobs=1)]: Done   1 out of   1 | elapsed:    0.0s remaining:    0.0s\n"
     ]
    },
    {
     "name": "stdout",
     "output_type": "stream",
     "text": [
      "[CV]  ................................................................\n",
      "[CV] .................................... , score=0.980, total=   0.1s\n",
      "[CV]  ................................................................\n",
      "[CV] .................................... , score=0.985, total=   0.1s\n",
      "[CV]  ................................................................\n",
      "[CV] .................................... , score=0.993, total=   0.1s\n"
     ]
    },
    {
     "name": "stderr",
     "output_type": "stream",
     "text": [
      "C:\\ProgramData\\Anaconda3\\lib\\site-packages\\sklearn\\linear_model\\_logistic.py:762: ConvergenceWarning: lbfgs failed to converge (status=1):\n",
      "STOP: TOTAL NO. of ITERATIONS REACHED LIMIT.\n",
      "\n",
      "Increase the number of iterations (max_iter) or scale the data as shown in:\n",
      "    https://scikit-learn.org/stable/modules/preprocessing.html\n",
      "Please also refer to the documentation for alternative solver options:\n",
      "    https://scikit-learn.org/stable/modules/linear_model.html#logistic-regression\n",
      "  n_iter_i = _check_optimize_result(\n",
      "[Parallel(n_jobs=1)]: Done   2 out of   2 | elapsed:    0.1s remaining:    0.0s\n",
      "C:\\ProgramData\\Anaconda3\\lib\\site-packages\\sklearn\\linear_model\\_logistic.py:762: ConvergenceWarning: lbfgs failed to converge (status=1):\n",
      "STOP: TOTAL NO. of ITERATIONS REACHED LIMIT.\n",
      "\n",
      "Increase the number of iterations (max_iter) or scale the data as shown in:\n",
      "    https://scikit-learn.org/stable/modules/preprocessing.html\n",
      "Please also refer to the documentation for alternative solver options:\n",
      "    https://scikit-learn.org/stable/modules/linear_model.html#logistic-regression\n",
      "  n_iter_i = _check_optimize_result(\n",
      "[Parallel(n_jobs=1)]: Done   3 out of   3 | elapsed:    0.2s finished\n"
     ]
    },
    {
     "data": {
      "text/plain": [
       "0.9862222222222221"
      ]
     },
     "execution_count": 53,
     "metadata": {},
     "output_type": "execute_result"
    }
   ],
   "source": [
    "from sklearn.linear_model import LogisticRegression\n",
    "from sklearn.model_selection import cross_val_score\n",
    "\n",
    "log_clf = LogisticRegression(solver=\"lbfgs\", random_state=42)\n",
    "score = cross_val_score(log_clf, X_train_transformed, y_train, cv=3, verbose=3)\n",
    "score.mean()"
   ]
  },
  {
   "cell_type": "markdown",
   "metadata": {},
   "source": [
    "<h2> 6. Calculate Prercision and Recall </h2>"
   ]
  },
  {
   "cell_type": "code",
   "execution_count": 55,
   "metadata": {},
   "outputs": [
    {
     "name": "stdout",
     "output_type": "stream",
     "text": [
      "Precision: 96.12%\n",
      "Recall: 98.41%\n"
     ]
    },
    {
     "name": "stderr",
     "output_type": "stream",
     "text": [
      "C:\\ProgramData\\Anaconda3\\lib\\site-packages\\sklearn\\linear_model\\_logistic.py:762: ConvergenceWarning: lbfgs failed to converge (status=1):\n",
      "STOP: TOTAL NO. of ITERATIONS REACHED LIMIT.\n",
      "\n",
      "Increase the number of iterations (max_iter) or scale the data as shown in:\n",
      "    https://scikit-learn.org/stable/modules/preprocessing.html\n",
      "Please also refer to the documentation for alternative solver options:\n",
      "    https://scikit-learn.org/stable/modules/linear_model.html#logistic-regression\n",
      "  n_iter_i = _check_optimize_result(\n"
     ]
    }
   ],
   "source": [
    "from sklearn.metrics import precision_score, recall_score\n",
    "\n",
    "X_test_transformed = preprocess_pipeline.transform(X_test)\n",
    "\n",
    "log_clf = LogisticRegression(solver=\"lbfgs\", random_state=42)\n",
    "log_clf.fit(X_train_transformed, y_train)\n",
    "\n",
    "y_pred = log_clf.predict(X_test_transformed)\n",
    "\n",
    "print(\"Precision: {:.2f}%\".format(100 * precision_score(y_test, y_pred)))\n",
    "print(\"Recall: {:.2f}%\".format(100 * recall_score(y_test, y_pred)))"
   ]
  }
 ],
 "metadata": {
  "kernelspec": {
   "display_name": "Python 3",
   "language": "python",
   "name": "python3"
  },
  "language_info": {
   "codemirror_mode": {
    "name": "ipython",
    "version": 3
   },
   "file_extension": ".py",
   "mimetype": "text/x-python",
   "name": "python",
   "nbconvert_exporter": "python",
   "pygments_lexer": "ipython3",
   "version": "3.8.3"
  }
 },
 "nbformat": 4,
 "nbformat_minor": 4
}
